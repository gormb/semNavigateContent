{
 "cells": [
  {
   "attachments": {},
   "cell_type": "markdown",
   "metadata": {},
   "source": [
    "List all wiki languages, list all mirrors,  get all locations for downloading the newest historical versions of page history for each language, download it\n",
    "Save everything to c:\\data\\wiki\\\n",
    "List all wiki languages..."
   ]
  },
  {
   "cell_type": "code",
   "execution_count": null,
   "metadata": {},
   "outputs": [],
   "source": [
    "#list all wiki languages\n",
    "urlList = \"https://dumps.wikimedia.org/backup-index.html\"\n",
    "import requests\n",
    "import sys\n",
    "r = requests.get(urlList)\n",
    "if r.status_code != 200:\n",
    "    print(sys.argv[0] + \" list lang error getting \" + urlList + \"\\nStatus code:\" + r.status_code + \"\\nHeaders:\" + r.headers)\n",
    "else: #parse r.content for languages\n",
    "    d = r.content.decode('utf-8')\n",
    "    with open(\"c:\\\\data\\\\wiki\\\\details\\\\lang.html\", 'w') as file:\n",
    "        file.write(d)\n",
    "    #split the content into linkes\n",
    "    l = d.split(\"<a href=\\\"\")\n",
    "    with open(\"c:\\\\data\\\\wiki\\\\lang.txt\", 'w') as file:\n",
    "+        for i in range(len(l)):\n",
    "            wd = l[i].split(\"\\\"\")[0].split(\"wiki/\") #keep links that has wiki/ and a date\n",
    "            if len(wd) == 2 and wd[1] > \"20200101\" and wd[1] < \"20991231\":\n",
    "                file.write(wd[0] + '\\t' + wd[1] + '\\n')\n"
   ]
  },
  {
   "attachments": {},
   "cell_type": "markdown",
   "metadata": {},
   "source": [
    "list all mirrors..."
   ]
  },
  {
   "cell_type": "code",
   "execution_count": null,
   "metadata": {},
   "outputs": [],
   "source": [
    "#"
   ]
  },
  {
   "attachments": {},
   "cell_type": "markdown",
   "metadata": {},
   "source": [
    "get all locations for all historical versions"
   ]
  },
  {
   "cell_type": "code",
   "execution_count": null,
   "metadata": {},
   "outputs": [],
   "source": [
    "#"
   ]
  },
  {
   "attachments": {},
   "cell_type": "markdown",
   "metadata": {},
   "source": [
    "downloading the newest historical versions of page history for each language"
   ]
  },
  {
   "cell_type": "code",
   "execution_count": null,
   "metadata": {},
   "outputs": [],
   "source": [
    "#for all languages find all sites with the newest version"
   ]
  },
  {
   "attachments": {},
   "cell_type": "markdown",
   "metadata": {},
   "source": [
    "for all mirrors, grab/pull the next newest version of any language and download it"
   ]
  },
  {
   "cell_type": "code",
   "execution_count": null,
   "metadata": {},
   "outputs": [],
   "source": [
    "#"
   ]
  },
  {
   "attachments": {},
   "cell_type": "markdown",
   "metadata": {},
   "source": [
    "refresh list of list of files not of the newest version"
   ]
  }
 ],
 "metadata": {
  "language_info": {
   "name": "python"
  },
  "orig_nbformat": 4
 },
 "nbformat": 4,
 "nbformat_minor": 2
}
